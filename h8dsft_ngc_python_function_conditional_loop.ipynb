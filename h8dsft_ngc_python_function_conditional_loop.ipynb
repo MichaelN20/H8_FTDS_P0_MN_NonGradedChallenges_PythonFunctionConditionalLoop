{
 "cells": [
  {
   "cell_type": "markdown",
   "metadata": {},
   "source": [
    "# Non Graded Challenge : Python Function, Conditional, and Loop (H8_FTDS_P0_NGC_2)\n",
    "\n",
    "FTDS Phase 0 - Week 1\n",
    "\n",
    "Name  : Michael Nathaniel\n",
    "\n",
    "Batch : HCK-009"
   ]
  },
  {
   "cell_type": "markdown",
   "metadata": {},
   "source": [
    "## Objective\n",
    "\n",
    "This Non Graded Challenge was created to evaluate the concept of Python Function, Conditional, and Loop  with the aim of:\n",
    "1. Get a grip of python function, conditional, and loop logic.\n",
    "2. Able to implement python function, conditional, and loop to solve logic cases."
   ]
  },
  {
   "cell_type": "markdown",
   "metadata": {},
   "source": [
    "### Task #1 - Number of Word\n",
    "\n",
    "Create a function that count the number of word in a sentence.\n",
    "\n",
    "Instruction:\n",
    "1. Create function called `number_of_word`.\n",
    "2. This function takes 1 input, `sentence`.\n",
    "3. Inside this function, you can utilize `.split()` method to split the sentence into list of word(s).\n",
    "4. Also, `len()` function to count the element inside a list.\n",
    "5. Return the number of word from the sentence.\n",
    "\n",
    "Example:\n",
    "- Input: number_of_word(sentence = ’Hello World!’)\n",
    "- Output: 2\n",
    "- Input: number_of_word(sentence = ’Once Upon a Time in a faraway land’)\n",
    "- Output: 8\n"
   ]
  },
  {
   "cell_type": "code",
   "execution_count": null,
   "metadata": {},
   "outputs": [],
   "source": [
    "# TASK #1 ANSWER\n",
    "\n",
    "def number_of_word(sentence):\n",
    "    print(len(sentence.split()))\n",
    "\n",
    "inputSatu = number_of_word(sentence = 'Hello World!')\n",
    "inputDua = number_of_word(sentence = 'Once Upon a Time in a faraway land')"
   ]
  },
  {
   "cell_type": "markdown",
   "metadata": {},
   "source": [
    "### Task #2 - Find Multiple\n",
    "\n",
    "Create a function that will get list of number(s) from a certain range that multiples of given number.\n",
    "\n",
    "Instruction:\n",
    "1. Create function called `find_multiples`.\n",
    "2. This function takes 3 input: `start_range`, `end_range`, and `multiple`.\n",
    "3. From every number within the given range, check if that number is the mutliples of `multiple`.\n",
    "4. Return list of the possible multiple number(s).\n",
    "\n",
    "Example:\n",
    "- Input: find_multiple(start_range= 1, end_range= 20, multiple= 5)\n",
    "- Output: [5, 10, 15, 20]\n",
    "- Input: find_multiple(start_range= 1, end_range= 50, multiple= 10)\n",
    "- Output: [10, 20, 30, 40, 50]"
   ]
  },
  {
   "cell_type": "code",
   "execution_count": null,
   "metadata": {},
   "outputs": [],
   "source": [
    "# TASK #2 ANSWER\n",
    "\n",
    "def find_multiple(start_range, end_range, multiple):\n",
    "    multipleList = []\n",
    "    for numbers in range(start_range, end_range + 1):\n",
    "        if numbers % multiple == 0:\n",
    "                multipleList.append(numbers)\n",
    "    print(multipleList)\n",
    "\n",
    "# Test input output\n",
    "\n",
    "input = find_multiple(start_range= 1, end_range= 20, multiple= 5)\n",
    "input = find_multiple(start_range= 1, end_range= 50, multiple= 10)"
   ]
  },
  {
   "cell_type": "markdown",
   "metadata": {},
   "source": [
    "### Task #3 - Grade Converter\n",
    "\n",
    "Create a function that will convert student’s grade to GPA.\n",
    "\n",
    "Instruction:\n",
    "1. Create function called `Grade_Converter`.\n",
    "2. This function takes input: `convert_to` and n-paired of student(s) name with its respective score.\n",
    "3. Input argument for `convert_to` is either `letter_grade` or `gpa`.\n",
    "4. You can utilize **kwargs input argument to generate n-length paired of student(s) name with its respective score (Dictionary).\n",
    "5. This function will return dictionary of student’s name along with converted Letter Grade or GPA, depending on user input in `convert_to` parameter.\n",
    "\n",
    "Example:\n",
    "- Input: Grade_Converter(convert_to='gpa', Adam=62, Faiz=91)\n",
    "- Output: {'Adam': 2.5, 'Faiz': 4}\n",
    "- Input: Grade_Converter(convert_to='letter_grade', Albert=90, Dwi=82, Syahdan=58, Veronica=84)\n",
    "- Output: {'Albert': 'A', 'Dwi': 'B', 'Syahdan': 'D','Veronica': 'B'}"
   ]
  },
  {
   "cell_type": "code",
   "execution_count": null,
   "metadata": {},
   "outputs": [],
   "source": [
    "# TASK #3 ANSWER\n",
    "\n",
    "def Grade_Converter(convert_to, **nameGrade):\n",
    "    converted_grade = {}\n",
    "    if convert_to == 'gpa':\n",
    "        for student, score in nameGrade.items():\n",
    "            if score >= 90:\n",
    "                converted_grade[student] = 4.0\n",
    "            elif score >= 85:\n",
    "                converted_grade[student] = 3.7\n",
    "            elif score >= 80:\n",
    "                converted_grade[student] = 3.3\n",
    "            elif score >= 75:\n",
    "                converted_grade[student] = 3.0\n",
    "            elif score >= 70:\n",
    "                converted_grade[student] = 2.7\n",
    "            elif score >= 65:\n",
    "                converted_grade[student] = 2.3\n",
    "            elif score >= 60:\n",
    "                converted_grade[student] = 2.0\n",
    "            else:\n",
    "                converted_grade[student] = 0.0\n",
    "    elif convert_to == 'letter_grade':\n",
    "        for student, score in nameGrade.items():\n",
    "            if score >= 90:\n",
    "                converted_grade[student] = 'A'\n",
    "            elif score >= 80:\n",
    "                converted_grade[student] = 'B'\n",
    "            elif score >= 70:\n",
    "                converted_grade[student] = 'C'\n",
    "            elif score >= 60:\n",
    "                converted_grade[student] = 'D'\n",
    "            else:\n",
    "                converted_grade[student] = 'F'\n",
    "    else:\n",
    "        print(\"Inputan salah\")\n",
    "    return converted_grade\n",
    "\n",
    "# Test input output\n",
    "\n",
    "grades_to_letter = Grade_Converter(convert_to='letter_grade', Albert=90, Dwi=82, Syahdan=58, Veronica=84)\n",
    "print(grades_to_letter)\n",
    "\n",
    "grades_to_gpa = Grade_Converter(convert_to='gpa', Adam=62, Faiz=91)\n",
    "print(grades_to_gpa) "
   ]
  },
  {
   "cell_type": "markdown",
   "metadata": {},
   "source": [
    "### Task #4 - Fibonacci Sequence\n",
    "Fibonacci sequence is a sequence in which each number is the sum of the two preceding ones. Suppose we have fibonacci sequence started with:\n",
    "\n",
    "0, 1, 1, 2, 3, 5, ...\n",
    "\n",
    "The next number should be 8 or sum of the two precedings, 3 and 5:\n",
    "\n",
    "0, 1, 1, 2, 3, 5, 8, ...\n",
    "\n",
    "Then the next number should be 13 or sum of the two precedings, 5 and 8:\n",
    "\n",
    "0, 1, 1, 2, 3, 5, 8, 13,  ...\n",
    "\n",
    "And so on.\n",
    "\n",
    "create a function that will return the value of n-th fibonacci number.\n",
    "\n",
    "Instruction:\n",
    "1. The function will take 1 input parameter, n, represents the asked number from our fibonacci sequence index.\n",
    "2. The fibonacci sequence will start with the value of 0 and 1.\n",
    "3. This function will return the n-th value from fibonacci sequence.\n",
    "\n",
    "example:\n",
    "- Input: my_function(n=0)\n",
    "- Output: 0\n",
    "- Input: my_function(n=4)\n",
    "- Output: 3\n",
    "- Input: my_function(n=10)\n",
    "- Output: 55\n",
    "\n"
   ]
  },
  {
   "cell_type": "code",
   "execution_count": null,
   "metadata": {},
   "outputs": [],
   "source": [
    "# TASK #4 ANSWER\n",
    "\n",
    "def my_function(n):\n",
    "    fibonacciSequence = [0, 1]\n",
    "    while len(fibonacciSequence) < n + 1:\n",
    "        nextNumber = fibonacciSequence[-1] + fibonacciSequence[-2]\n",
    "        fibonacciSequence.append(nextNumber)\n",
    "    print(fibonacciSequence[n])\n",
    "\n",
    "my_function(n=0)\n",
    "my_function(n=4)\n",
    "my_function(n=10)"
   ]
  },
  {
   "cell_type": "markdown",
   "metadata": {},
   "source": [
    "# Submission\n",
    "1. Create a file to store your answers in .ipynb.\n",
    "2. Save this assignment with filename : h8dsft_ngc_python_function_conditional_loop.ipynb.\n",
    "3. Push your answer into your own GitHub repository.10"
   ]
  }
 ],
 "metadata": {
  "kernelspec": {
   "display_name": "base",
   "language": "python",
   "name": "python3"
  },
  "language_info": {
   "codemirror_mode": {
    "name": "ipython",
    "version": 3
   },
   "file_extension": ".py",
   "mimetype": "text/x-python",
   "name": "python",
   "nbconvert_exporter": "python",
   "pygments_lexer": "ipython3",
   "version": "3.11.4"
  },
  "orig_nbformat": 4
 },
 "nbformat": 4,
 "nbformat_minor": 2
}
